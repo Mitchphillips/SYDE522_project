{
 "cells": [
  {
   "cell_type": "code",
   "execution_count": 4,
   "metadata": {},
   "outputs": [],
   "source": [
    "# import standard libraries\n",
    "from __future__ import absolute_import, division, print_function, unicode_literals\n",
    "\n",
    "import numpy as np # linear algebra\n",
    "import pandas as pd # data processing, CSV file I/O (e.g. pd.read_csv)\n",
    "import matplotlib.pyplot as plt\n",
    "import itertools\n",
    "\n",
    "from sklearn.datasets import load_iris\n",
    "from sklearn import tree, preprocessing\n",
    "from sklearn.metrics import classification_report, confusion_matrix,f1_score\n",
    "from sklearn.model_selection import train_test_split, StratifiedShuffleSplit, GridSearchCV\n",
    "from sklearn.neighbors import KNeighborsClassifier\n",
    "from shutil import copyfile\n",
    "from imblearn.under_sampling import ClusterCentroids\n",
    "# load train data\n",
    "train_data = pd.read_csv('../data/MoreManipulatedData_bucket_last_col.csv',usecols=lambda x: 'PLAYER_URL' not in x)\n",
    "\n",
    "# different classes\n",
    "train_data.BUCKET.unique()\n",
    "\n",
    "def plot_confusion_matrix(cm, classes,\n",
    "                          normalize=False,\n",
    "                          title='Confusion matrix',\n",
    "                          cmap=plt.cm.Blues):\n",
    "    \"\"\"\n",
    "    This function prints and plots the confusion matrix.\n",
    "    Normalization can be applied by setting normalize=True.\n",
    "    \"\"\"\n",
    "    if normalize:\n",
    "        cm = cm.astype('float') / cm.sum(axis=1)[:, np.newaxis]\n",
    "        print(\"Normalized confusion matrix\")\n",
    "    else:\n",
    "        print('Confusion matrix, without normalization')\n",
    "\n",
    "    print(cm)\n",
    "\n",
    "    fig, axes = plt.subplots(1, 1)\n",
    "    plt.imshow(cm, interpolation='nearest', cmap=cmap)\n",
    "    plt.title(title)\n",
    "    plt.colorbar()\n",
    "    tick_marks = np.arange(len(classes))\n",
    "    plt.xticks(tick_marks, classes, rotation=45)\n",
    "    plt.yticks(tick_marks, classes)\n",
    "\n",
    "    fmt = '.2f' if normalize else 'd'\n",
    "    thresh = cm.max() / 2.\n",
    "    for i, j in itertools.product(range(cm.shape[0]), range(cm.shape[1])):\n",
    "        plt.text(j, i, format(cm[i, j], fmt),\n",
    "                 horizontalalignment=\"center\",\n",
    "                 color=\"white\" if cm[i, j] > thresh else \"black\")\n",
    "\n",
    "    plt.ylabel('True label')\n",
    "    plt.xlabel('Predicted label')\n",
    "    plt.tight_layout()\n",
    "\n",
    "# convert string values to numerical data\n",
    "def convert(data):\n",
    "    number = preprocessing.LabelEncoder()\n",
    "    data['POS'] = number.fit_transform(data.POS)\n",
    "    data['LEAGUE'] = number.fit_transform(data.LEAGUE)\n",
    "    data['FIRST_JUNIOR_YEAR'] = number.fit_transform(data.FIRST_JUNIOR_YEAR)\n",
    "    data['DOB'] = number.fit_transform(data.DOB)\n",
    "    data['NATIONALITY'] = number.fit_transform(data.NATIONALITY)\n",
    "    data['SHOOTS'] = number.fit_transform(data.SHOOTS)\n",
    "    data=data.fillna(-999)\n",
    "    return data\n",
    "\n",
    "# convert string values in data to numerical classes\n",
    "train_data = convert(train_data)\n",
    "X = np.asarray(train_data[train_data.columns[:-1]])\n",
    "y = np.asarray(train_data.BUCKET)\n",
    "\n",
    "cc = ClusterCentroids(random_state=0, sampling_strategy='majority')\n",
    "X_resampled, y_resampled = cc.fit_resample(X, y)\n",
    "\n",
    "# Separating the data and the labels\n",
    "\n",
    "\n",
    "# Splitting the data into the train and the test sets\n",
    "sss = StratifiedShuffleSplit(n_splits=1, test_size=0.2, random_state=0)\n",
    "sss.get_n_splits(X, y)\n",
    "\n",
    "train_index, test_index = next(sss.split(X_resampled, y_resampled))\n",
    "X_train, X_test = X_resampled[train_index], X_resampled[test_index]\n",
    "y_train, y_test = y_resampled[train_index], y_resampled[test_index]\n",
    "\n",
    "# print('Training data: \\n',X)\n",
    "# print('\\n')\n",
    "# print('Training labels: \\n',y_train)"
   ]
  },
  {
   "cell_type": "code",
   "execution_count": 7,
   "metadata": {},
   "outputs": [
    {
     "name": "stdout",
     "output_type": "stream",
     "text": [
      "Macro accuracy with uniform weights is 0.5654681975886138\n"
     ]
    }
   ],
   "source": [
    "K = 10\n",
    "# ks = []\n",
    "# f1_macro_d = []\n",
    "# f1_macro_u = []\n",
    "# while K < 100:\n",
    "\n",
    "# print(K)\n",
    "\n",
    "# K Nearest Neighbors Classifier (has to be able to deal with floats)\n",
    "KNN = KNeighborsClassifier(K,weights='distance')\n",
    "# fit the classifier using the training data\n",
    "KNN = KNN.fit(X_train, y_train)\n",
    "# Predict the test class labels using the trained KNN classifier \n",
    "y_pred = KNN.predict(X_test)\n",
    "f1_macro = f1_score(y_test, y_pred,average='macro')\n",
    "print('Macro accuracy with uniform weights is %s' % f1_macro)\n"
   ]
  },
  {
   "cell_type": "code",
   "execution_count": 8,
   "metadata": {},
   "outputs": [
    {
     "name": "stdout",
     "output_type": "stream",
     "text": [
      "Confusion matrix, without normalization\n",
      "[[355  29  16   8]\n",
      " [ 97  30  29   0]\n",
      " [ 39  20  68   0]\n",
      " [ 55   0   0  72]]\n"
     ]
    },
    {
     "data": {
      "image/png": "[encoded data removed]",
      "text/plain": [
       "<Figure size 432x288 with 2 Axes>"
      ]
     },
     "metadata": {
      "needs_background": "light"
     },
     "output_type": "display_data"
    }
   ],
   "source": [
    "cm = confusion_matrix(y_test, y_pred)\n",
    "\n",
    "plot_confusion_matrix(cm,['0','1-200','201-600','601+'])\n",
    "\n",
    "# print accuracy of the classifier\n",
    "# \n",
    "\n",
    "# fig, axes = plt.subplots(1, 1)\n",
    "\n",
    "# axes.plot(ks,f1_macro_d)\n",
    "# axes.plot(ks,f1_macro_u)\n",
    "\n",
    "# labels = [\"Uniform Weighting\",\"Distance Weighting\"]\n",
    "# axes.legend(axes.get_lines(), labels, loc=1)\n",
    "# plt.ylabel('Accuracy')\n",
    "# plt.xlabel('Value of K')\n",
    "# plt.title('Effect of K on accuracy')\n",
    "# plt.show()"
   ]
  },
  {
   "cell_type": "code",
   "execution_count": 9,
   "metadata": {
    "scrolled": true
   },
   "outputs": [
    {
     "name": "stdout",
     "output_type": "stream",
     "text": [
      "              precision    recall  f1-score   support\n",
      "\n",
      "    1-200          0.65      0.87      0.74       408\n",
      "    201-600        0.38      0.19      0.26       156\n",
      "    601+           0.60      0.54      0.57       127\n",
      "           0       0.90      0.57      0.70       127\n",
      "\n",
      "    accuracy                           0.64       818\n",
      "   macro avg       0.63      0.54      0.57       818\n",
      "weighted avg       0.63      0.64      0.62       818\n",
      "\n"
     ]
    }
   ],
   "source": [
    "print(classification_report(y_test, y_pred))"
   ]
  },
  {
   "cell_type": "code",
   "execution_count": null,
   "metadata": {},
   "outputs": [],
   "source": []
  }
 ],
 "metadata": {
  "kernelspec": {
   "display_name": "Python 3",
   "language": "python",
   "name": "python3"
  },
  "language_info": {
   "codemirror_mode": {
    "name": "ipython",
    "version": 3
   },
   "file_extension": ".py",
   "mimetype": "text/x-python",
   "name": "python",
   "nbconvert_exporter": "python",
   "pygments_lexer": "ipython3",
   "version": "3.7.6"
  }
 },
 "nbformat": 4,
 "nbformat_minor": 4
}
