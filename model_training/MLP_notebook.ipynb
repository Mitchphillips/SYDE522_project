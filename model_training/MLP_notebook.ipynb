{
 "cells": [
  {
   "cell_type": "code",
   "execution_count": 17,
   "metadata": {},
   "outputs": [],
   "source": [
    "# import standard libraries\n",
    "from __future__ import absolute_import, division, print_function, unicode_literals\n",
    "\n",
    "import numpy as np # linear algebra\n",
    "import pandas as pd # data processing, CSV file I/O (e.g. pd.read_csv)\n",
    "import matplotlib.pyplot as plt\n",
    "import itertools\n",
    "\n",
    "from sklearn.datasets import load_iris\n",
    "from sklearn import tree, preprocessing\n",
    "from sklearn.metrics import classification_report, confusion_matrix, average_precision_score, precision_recall_fscore_support,f1_score\n",
    "from sklearn.model_selection import train_test_split, StratifiedShuffleSplit, GridSearchCV\n",
    "from sklearn.neighbors import KNeighborsClassifier\n",
    "from sklearn.neural_network import MLPClassifier\n",
    "from shutil import copyfile\n",
    "from imblearn.under_sampling import ClusterCentroids"
   ]
  },
  {
   "cell_type": "code",
   "execution_count": 20,
   "metadata": {},
   "outputs": [],
   "source": [
    "# load train data\n",
    "train_data = pd.read_csv('../data/MoreManipulatedData_bucket_last_col.csv',usecols=lambda x: 'PLAYER_URL' not in x)\n",
    "\n",
    "# different classes\n",
    "train_data.BUCKET.unique()\n",
    "\n",
    "# convert string values to numerical data\n",
    "def convert(data):\n",
    "    number = preprocessing.LabelEncoder()\n",
    "    data['POS'] = number.fit_transform(data.POS)\n",
    "    data['LEAGUE'] = number.fit_transform(data.LEAGUE)\n",
    "    data['FIRST_JUNIOR_YEAR'] = number.fit_transform(data.FIRST_JUNIOR_YEAR)\n",
    "    data['DOB'] = number.fit_transform(data.DOB)\n",
    "    data['NATIONALITY'] = number.fit_transform(data.NATIONALITY)\n",
    "    data['SHOOTS'] = number.fit_transform(data.SHOOTS)\n",
    "    data=data.fillna(-999)\n",
    "    return data\n",
    "\n",
    "# convert string values in data to numerical classes\n",
    "train_data = convert(train_data)\n",
    "\n",
    "# Separating the data and the labels\n",
    "X = np.asarray(train_data[train_data.columns[:-1]])\n",
    "y = np.asarray(train_data.BUCKET)"
   ]
  },
  {
   "cell_type": "code",
   "execution_count": 21,
   "metadata": {},
   "outputs": [
    {
     "name": "stdout",
     "output_type": "stream",
     "text": [
      "Training data: \n",
      " [[103143      3     87 ...    180     84      2]\n",
      " [106210      1     73 ...    193     95      0]\n",
      " [106207      2     21 ...    183     86      0]\n",
      " ...\n",
      " [249307      1    130 ...    188     98      3]\n",
      " [485033      3     59 ...    175     68      2]\n",
      " [410552      2      1 ...    183     82      2]]\n",
      "\n",
      "\n",
      "Training labels: \n",
      " [' 601+    ' ' 1-200   ' ' 1-200   ' ... ' 201-600 ' ' 201-600 '\n",
      " ' 601+    ']\n"
     ]
    }
   ],
   "source": [
    "cc = ClusterCentroids(random_state=0, sampling_strategy='majority')\n",
    "X_resampled, y_resampled = cc.fit_resample(X, y)\n",
    "\n",
    "# Separating the data and the labels\n",
    "\n",
    "\n",
    "# Splitting the data into the train and the test sets\n",
    "sss = StratifiedShuffleSplit(n_splits=1, test_size=0.2, random_state=0)\n",
    "sss.get_n_splits(X, y)\n",
    "\n",
    "train_index, test_index = next(sss.split(X_resampled, y_resampled))\n",
    "X_train, X_test = X_resampled[train_index], X_resampled[test_index]\n",
    "y_train, y_test = y_resampled[train_index], y_resampled[test_index]\n",
    "\n",
    "print('Training data: \\n',X)\n",
    "print('\\n')\n",
    "print('Training labels: \\n',y_train)"
   ]
  },
  {
   "cell_type": "code",
   "execution_count": 42,
   "metadata": {
    "scrolled": true
   },
   "outputs": [
    {
     "name": "stdout",
     "output_type": "stream",
     "text": [
      "              precision    recall  f1-score   support\n",
      "\n",
      "    1-200          0.65      0.58      0.61       408\n",
      "    201-600        0.34      0.26      0.30       156\n",
      "    601+           0.39      0.43      0.41       127\n",
      "           0       0.61      0.93      0.74       127\n",
      "\n",
      "    accuracy                           0.55       818\n",
      "   macro avg       0.50      0.55      0.51       818\n",
      "weighted avg       0.55      0.55      0.54       818\n",
      "\n"
     ]
    }
   ],
   "source": [
    "# K Nearest Neighbors Classifier (has to be able to deal with floats)\n",
    "MLP = MLPClassifier(hidden_layer_sizes=(10,),solver= 'adam', learning_rate_init = 0.00001, max_iter=10000,random_state=0,tol=1e-5)\n",
    "\n",
    "# learning_rate_init=0.0001,learning_rate='invscaling',activation='logistic'\n",
    "# fit the classifier using the training data\n",
    "MLP = MLP.fit(X_train, y_train)\n",
    "\n",
    "# Predict the test class labels using the trained KNN classifier \n",
    "y_pred = MLP.predict(X_test)\n",
    "\n",
    "# print accuracy of the classifier\n",
    "print(classification_report(y_test, y_pred))"
   ]
  },
  {
   "cell_type": "code",
   "execution_count": 43,
   "metadata": {},
   "outputs": [
    {
     "name": "stdout",
     "output_type": "stream",
     "text": [
      "Confusion matrix, without normalization\n",
      "[[237  52  59  60]\n",
      " [ 78  41  26  11]\n",
      " [ 40  28  55   4]\n",
      " [  9   0   0 118]]\n"
     ]
    },
    {
     "data": {
      "image/png": "[encoded data removed]",
      "text/plain": [
       "<Figure size 432x288 with 2 Axes>"
      ]
     },
     "metadata": {
      "needs_background": "light"
     },
     "output_type": "display_data"
    }
   ],
   "source": [
    "def plot_confusion_matrix(cm, classes,\n",
    "                          normalize=False,\n",
    "                          title='Confusion matrix',\n",
    "                          cmap=plt.cm.Blues):\n",
    "    \"\"\"\n",
    "    This function prints and plots the confusion matrix.\n",
    "    Normalization can be applied by setting normalize=True.\n",
    "    \"\"\"\n",
    "    if normalize:\n",
    "        cm = cm.astype('float') / cm.sum(axis=1)[:, np.newaxis]\n",
    "        print(\"Normalized confusion matrix\")\n",
    "    else:\n",
    "        print('Confusion matrix, without normalization')\n",
    "\n",
    "    print(cm)\n",
    "\n",
    "    fig, axes = plt.subplots(1, 1)\n",
    "    plt.imshow(cm, interpolation='nearest', cmap=cmap)\n",
    "    plt.title(title)\n",
    "    plt.colorbar()\n",
    "    tick_marks = np.arange(len(classes))\n",
    "    plt.xticks(tick_marks, classes, rotation=45)\n",
    "    plt.yticks(tick_marks, classes)\n",
    "\n",
    "    fmt = '.2f' if normalize else 'd'\n",
    "    thresh = cm.max() / 2.\n",
    "    for i, j in itertools.product(range(cm.shape[0]), range(cm.shape[1])):\n",
    "        plt.text(j, i, format(cm[i, j], fmt),\n",
    "                 horizontalalignment=\"center\",\n",
    "                 color=\"white\" if cm[i, j] > thresh else \"black\")\n",
    "\n",
    "    plt.ylabel('True label')\n",
    "    plt.xlabel('Predicted label')\n",
    "    plt.tight_layout()\n",
    "\n",
    "cm = confusion_matrix(y_test, y_pred)\n",
    "\n",
    "plot_confusion_matrix(cm,['0','1-200','201-600','601+'])"
   ]
  },
  {
   "cell_type": "code",
   "execution_count": 9,
   "metadata": {
    "scrolled": true
   },
   "outputs": [
    {
     "name": "stdout",
     "output_type": "stream",
     "text": [
      "3\n",
      "0.9489288914229861\n",
      "0.3951114950012613\n",
      "0.8874626865671642\n",
      "0.8721191515809892\n"
     ]
    }
   ],
   "source": [
    "print(MLP.n_layers_)\n",
    "print(precision_recall_fscore_support(y_test, y_pred)[2][3])\n",
    "print(f1_score(y_test, y_pred,average='macro'))\n",
    "print(f1_score(y_test, y_pred,average='micro'))\n",
    "print(f1_score(y_test, y_pred,average='weighted'))"
   ]
  },
  {
   "cell_type": "code",
   "execution_count": 25,
   "metadata": {},
   "outputs": [
    {
     "data": {
      "text/plain": [
       "['../finished_models/mlp_adam_lr0_00001.joblib']"
      ]
     },
     "execution_count": 25,
     "metadata": {},
     "output_type": "execute_result"
    }
   ],
   "source": [
    "from joblib import dump, load\n",
    "dump(MLP, '../finished_models/mlp_adam_lr0_00001.joblib') "
   ]
  },
  {
   "cell_type": "code",
   "execution_count": 26,
   "metadata": {},
   "outputs": [
    {
     "name": "stdout",
     "output_type": "stream",
     "text": [
      "              precision    recall  f1-score   support\n",
      "\n",
      "    1-200          0.64      0.67      0.66       408\n",
      "    201-600        0.25      0.26      0.26       156\n",
      "    601+           0.37      0.32      0.34       127\n",
      "           0       0.74      0.68      0.71       127\n",
      "\n",
      "    accuracy                           0.54       818\n",
      "   macro avg       0.50      0.48      0.49       818\n",
      "weighted avg       0.54      0.54      0.54       818\n",
      "\n"
     ]
    }
   ],
   "source": [
    "# This is a champ: '../finished_models/mlp_hid1000_layer3_try2.joblib'\n",
    "MLP2 = load('../finished_models/mlp_adam_lr0_00001.joblib') \n",
    "# Predict the test class labels using the trained KNN classifier \n",
    "y_pred = MLP2.predict(X_test)\n",
    "\n",
    "# print accuracy of the classifier\n",
    "print(classification_report(y_test, y_pred))"
   ]
  },
  {
   "cell_type": "code",
   "execution_count": null,
   "metadata": {},
   "outputs": [],
   "source": []
  }
 ],
 "metadata": {
  "kernelspec": {
   "display_name": "Python 3",
   "language": "python",
   "name": "python3"
  },
  "language_info": {
   "codemirror_mode": {
    "name": "ipython",
    "version": 3
   },
   "file_extension": ".py",
   "mimetype": "text/x-python",
   "name": "python",
   "nbconvert_exporter": "python",
   "pygments_lexer": "ipython3",
   "version": "3.7.6"
  }
 },
 "nbformat": 4,
 "nbformat_minor": 2
}
