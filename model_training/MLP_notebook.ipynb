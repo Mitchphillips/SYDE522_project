{
 "cells": [
  {
   "cell_type": "code",
   "execution_count": 2,
   "metadata": {},
   "outputs": [
    {
     "name": "stderr",
     "output_type": "stream",
     "text": [
      "\n",
      "Bad key \"text.kerning_factor\" on line 4 in\n",
      "/Users/mitch/opt/anaconda3/envs/ml/lib/python3.7/site-packages/matplotlib/mpl-data/stylelib/_classic_test_patch.mplstyle.\n",
      "You probably need to get an updated matplotlibrc file from\n",
      "https://github.com/matplotlib/matplotlib/blob/v3.1.3/matplotlibrc.template\n",
      "or from the matplotlib source distribution\n"
     ]
    }
   ],
   "source": [
    "# import standard libraries\n",
    "from __future__ import absolute_import, division, print_function, unicode_literals\n",
    "\n",
    "import numpy as np # linear algebra\n",
    "import pandas as pd # data processing, CSV file I/O (e.g. pd.read_csv)\n",
    "import matplotlib.pyplot as plt\n",
    "import itertools\n",
    "\n",
    "from sklearn.datasets import load_iris\n",
    "from sklearn import tree, preprocessing\n",
    "from sklearn.metrics import classification_report, confusion_matrix, average_precision_score, precision_recall_fscore_support,f1_score\n",
    "from sklearn.model_selection import train_test_split, StratifiedShuffleSplit, GridSearchCV\n",
    "from sklearn.neighbors import KNeighborsClassifier\n",
    "from sklearn.neural_network import MLPClassifier\n",
    "from shutil import copyfile"
   ]
  },
  {
   "cell_type": "code",
   "execution_count": 3,
   "metadata": {},
   "outputs": [
    {
     "name": "stdout",
     "output_type": "stream",
     "text": [
      "Training data: \n",
      " [[103143      3     87 ...    180     84      2]\n",
      " [106210      1     73 ...    193     95      0]\n",
      " [106207      2     21 ...    183     86      0]\n",
      " ...\n",
      " [249307      1    130 ...    188     98      3]\n",
      " [485033      3     59 ...    175     68      2]\n",
      " [410552      2      1 ...    183     82      2]]\n",
      "\n",
      "\n",
      "Training labels: \n",
      " ['0' '0' '0' ... '0' '0' '0']\n"
     ]
    }
   ],
   "source": [
    "# load train data\n",
    "train_data = pd.read_csv('../data/MoreManipulatedData_bucket_last_col.csv',usecols=lambda x: 'PLAYER_URL' not in x)\n",
    "\n",
    "# different classes\n",
    "train_data.BUCKET.unique()\n",
    "\n",
    "# convert string values to numerical data\n",
    "def convert(data):\n",
    "    number = preprocessing.LabelEncoder()\n",
    "    data['POS'] = number.fit_transform(data.POS)\n",
    "    data['LEAGUE'] = number.fit_transform(data.LEAGUE)\n",
    "    data['FIRST_JUNIOR_YEAR'] = number.fit_transform(data.FIRST_JUNIOR_YEAR)\n",
    "    data['DOB'] = number.fit_transform(data.DOB)\n",
    "    data['NATIONALITY'] = number.fit_transform(data.NATIONALITY)\n",
    "    data['SHOOTS'] = number.fit_transform(data.SHOOTS)\n",
    "    data=data.fillna(-999)\n",
    "    return data\n",
    "\n",
    "# convert string values in data to numerical classes\n",
    "train_data = convert(train_data)\n",
    "\n",
    "# Separating the data and the labels\n",
    "X = np.asarray(train_data[train_data.columns[:-1]])\n",
    "y = np.asarray(train_data.BUCKET)\n",
    "\n",
    "# Splitting the data into the train and the test sets\n",
    "sss = StratifiedShuffleSplit(n_splits=1, test_size=0.2, random_state=0)\n",
    "sss.get_n_splits(X, y)\n",
    "\n",
    "train_index, test_index = next(sss.split(X, y))\n",
    "X_train, X_test = X[train_index], X[test_index]\n",
    "y_train, y_test = y[train_index], y[test_index]\n",
    "\n",
    "print('Training data: \\n',X)\n",
    "print('\\n')\n",
    "print('Training labels: \\n',y_train)"
   ]
  },
  {
   "cell_type": "code",
   "execution_count": 4,
   "metadata": {
    "scrolled": true
   },
   "outputs": [
    {
     "name": "stdout",
     "output_type": "stream",
     "text": [
      "              precision    recall  f1-score   support\n",
      "\n",
      "    1-200          0.28      0.17      0.21       408\n",
      "    201-600        0.14      0.05      0.08       156\n",
      "    601+           0.34      0.35      0.35       127\n",
      "           0       0.93      0.97      0.95      6009\n",
      "\n",
      "    accuracy                           0.89      6700\n",
      "   macro avg       0.42      0.39      0.40      6700\n",
      "weighted avg       0.86      0.89      0.87      6700\n",
      "\n"
     ]
    }
   ],
   "source": [
    "# K Nearest Neighbors Classifier (has to be able to deal with floats)\n",
    "MLP = MLPClassifier(solver= 'adam', learning_rate_init = 0.000001, max_iter=10000,random_state=0)\n",
    "\n",
    "# learning_rate_init=0.0001,learning_rate='invscaling',activation='logistic'\n",
    "# fit the classifier using the training data\n",
    "MLP = MLP.fit(X_train, y_train)\n",
    "\n",
    "# Predict the test class labels using the trained KNN classifier \n",
    "y_pred = MLP.predict(X_test)\n",
    "\n",
    "# print accuracy of the classifier\n",
    "print(classification_report(y_test, y_pred))"
   ]
  },
  {
   "cell_type": "code",
   "execution_count": 9,
   "metadata": {
    "scrolled": true
   },
   "outputs": [
    {
     "name": "stdout",
     "output_type": "stream",
     "text": [
      "3\n",
      "0.9489288914229861\n",
      "0.3951114950012613\n",
      "0.8874626865671642\n",
      "0.8721191515809892\n"
     ]
    }
   ],
   "source": [
    "print(MLP.n_layers_)\n",
    "print(precision_recall_fscore_support(y_test, y_pred)[2][3])\n",
    "print(f1_score(y_test, y_pred,average='macro'))\n",
    "print(f1_score(y_test, y_pred,average='micro'))\n",
    "print(f1_score(y_test, y_pred,average='weighted'))"
   ]
  },
  {
   "cell_type": "code",
   "execution_count": 70,
   "metadata": {},
   "outputs": [
    {
     "data": {
      "text/plain": [
       "['../finished_models/mlp_adam_lr0_00001.joblib']"
      ]
     },
     "execution_count": 70,
     "metadata": {},
     "output_type": "execute_result"
    }
   ],
   "source": [
    "from joblib import dump, load\n",
    "dump(MLP, '../finished_models/mlp_adam_lr0_00001.joblib') "
   ]
  },
  {
   "cell_type": "code",
   "execution_count": 71,
   "metadata": {},
   "outputs": [
    {
     "name": "stdout",
     "output_type": "stream",
     "text": [
      "              precision    recall  f1-score   support\n",
      "\n",
      "    1-200          0.23      0.37      0.28       408\n",
      "    201-600        0.21      0.07      0.11       156\n",
      "    601+           0.35      0.35      0.35       127\n",
      "           0       0.95      0.92      0.93      6009\n",
      "\n",
      "    accuracy                           0.86      6700\n",
      "   macro avg       0.43      0.43      0.42      6700\n",
      "weighted avg       0.87      0.86      0.86      6700\n",
      "\n"
     ]
    }
   ],
   "source": [
    "# This is a champ: '../finished_models/mlp_hid1000_layer3_try2.joblib'\n",
    "MLP2 = load('../finished_models/mlp_adam_lr0_00001.joblib') \n",
    "# Predict the test class labels using the trained KNN classifier \n",
    "y_pred = MLP2.predict(X_test)\n",
    "\n",
    "# print accuracy of the classifier\n",
    "print(classification_report(y_test, y_pred))"
   ]
  },
  {
   "cell_type": "code",
   "execution_count": null,
   "metadata": {},
   "outputs": [],
   "source": []
  }
 ],
 "metadata": {
  "kernelspec": {
   "display_name": "Python 3",
   "language": "python",
   "name": "python3"
  },
  "language_info": {
   "codemirror_mode": {
    "name": "ipython",
    "version": 3
   },
   "file_extension": ".py",
   "mimetype": "text/x-python",
   "name": "python",
   "nbconvert_exporter": "python",
   "pygments_lexer": "ipython3",
   "version": "3.7.6"
  }
 },
 "nbformat": 4,
 "nbformat_minor": 2
}
